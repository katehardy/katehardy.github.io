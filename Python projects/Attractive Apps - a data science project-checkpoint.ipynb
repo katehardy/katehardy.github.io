{
 "cells": [
  {
   "cell_type": "markdown",
   "id": "e242e74c-d561-4c70-bf8d-7ac35aee86ce",
   "metadata": {},
   "source": [
    "# Attractive Apps - a data science project"
   ]
  },
  {
   "cell_type": "markdown",
   "id": "b10dcc1d-669c-4a6d-b500-b3fe7d13c410",
   "metadata": {},
   "source": [
    "This project will analyse data from various apps to determine which type of app attracts the most users.\r\n",
    "\r\n",
    "Since our company develops free apps for Google Play and the App Store, revenue is gained from paid ads, and the revenue from those ads is determined by the number of users."
   ]
  },
  {
   "cell_type": "code",
   "execution_count": 55,
   "id": "a74a3577-5199-4023-aebc-e00b98af35c6",
   "metadata": {},
   "outputs": [],
   "source": [
    "from csv import reader\n",
    "\n",
    "\n",
    "# open AppleStore.csv dataset\n",
    "open_applestore = open('AppleStore.csv', encoding =\"utf-8\")\n",
    "read_applestore = reader(open_applestore)\n",
    "apple_data = list(read_applestore)\n",
    "\n",
    "# open googleplaystore.csv dataset\n",
    "open_playstore = open('googleplaystore.csv', encoding = \"utf-8\")\n",
    "read_playstore = reader(open_playstore) \n",
    "play_data = list(read_playstore)\n"
   ]
  },
  {
   "cell_type": "markdown",
   "id": "b35c3e5f-09e1-49a1-b79b-3535e7639575",
   "metadata": {},
   "source": [
    "Let's define an explore data function to help us take a quick look at the data"
   ]
  },
  {
   "cell_type": "code",
   "execution_count": 56,
   "id": "94362f43-fa93-49b5-9a87-f9091fc52867",
   "metadata": {},
   "outputs": [],
   "source": [
    "def explore_data(dataset, start, end, rows_and_columns=False):\n",
    "    dataset_slice = dataset[start:end]    \n",
    "    for row in dataset_slice:\n",
    "        print(row)\n",
    "        print('\\n') # adds a new (empty) line after each row\n",
    "\n",
    "    if rows_and_columns:\n",
    "        print('Number of rows:', len(dataset))\n",
    "        print('Number of columns:', len(dataset[0]))\n",
    "        "
   ]
  },
  {
   "cell_type": "markdown",
   "id": "b8ffc105-2f8b-4adb-9953-66636646e8bb",
   "metadata": {},
   "source": [
    "Let's use the explore data function to take an intial look at the data sets.link"
   ]
  },
  {
   "cell_type": "code",
   "execution_count": 57,
   "id": "60b014ae-a542-4eb0-9888-15d47bfce0df",
   "metadata": {},
   "outputs": [
    {
     "name": "stdout",
     "output_type": "stream",
     "text": [
      "['', 'id', 'track_name', 'size_bytes', 'currency', 'price', 'rating_count_tot', 'rating_count_ver', 'user_rating', 'user_rating_ver', 'ver', 'cont_rating', 'prime_genre', 'sup_devices.num', 'ipadSc_urls.num', 'lang.num', 'vpp_lic']\n",
      "\n",
      "\n",
      "['1', '281656475', 'PAC-MAN Premium', '100788224', 'USD', '3.99', '21292', '26', '4', '4.5', '6.3.5', '4+', 'Games', '38', '5', '10', '1']\n",
      "\n",
      "\n",
      "['2', '281796108', 'Evernote - stay organized', '158578688', 'USD', '0', '161065', '26', '4', '3.5', '8.2.2', '4+', 'Productivity', '37', '5', '23', '1']\n",
      "\n",
      "\n",
      "['3', '281940292', 'WeatherBug - Local Weather, Radar, Maps, Alerts', '100524032', 'USD', '0', '188583', '2822', '3.5', '4.5', '5.0.0', '4+', 'Weather', '37', '5', '3', '1']\n",
      "\n",
      "\n",
      "['4', '282614216', 'eBay: Best App to Buy, Sell, Save! Online Shopping', '128512000', 'USD', '0', '262241', '649', '4', '4.5', '5.10.0', '12+', 'Shopping', '37', '5', '9', '1']\n",
      "\n",
      "\n",
      "['', 'id', 'track_name', 'size_bytes', 'currency', 'price', 'rating_count_tot', 'rating_count_ver', 'user_rating', 'user_rating_ver', 'ver', 'cont_rating', 'prime_genre', 'sup_devices.num', 'ipadSc_urls.num', 'lang.num', 'vpp_lic']\n",
      "\n",
      "\n",
      "['1', '281656475', 'PAC-MAN Premium', '100788224', 'USD', '3.99', '21292', '26', '4', '4.5', '6.3.5', '4+', 'Games', '38', '5', '10', '1']\n",
      "\n",
      "\n",
      "['2', '281796108', 'Evernote - stay organized', '158578688', 'USD', '0', '161065', '26', '4', '3.5', '8.2.2', '4+', 'Productivity', '37', '5', '23', '1']\n",
      "\n",
      "\n",
      "['3', '281940292', 'WeatherBug - Local Weather, Radar, Maps, Alerts', '100524032', 'USD', '0', '188583', '2822', '3.5', '4.5', '5.0.0', '4+', 'Weather', '37', '5', '3', '1']\n",
      "\n",
      "\n",
      "['4', '282614216', 'eBay: Best App to Buy, Sell, Save! Online Shopping', '128512000', 'USD', '0', '262241', '649', '4', '4.5', '5.10.0', '12+', 'Shopping', '37', '5', '9', '1']\n",
      "\n",
      "\n"
     ]
    }
   ],
   "source": [
    "# first explore the AppleStore.csv dataset\n",
    "explore_data(apple_data,0,5)\n",
    "\n",
    "# first explore the AppleStore.csv dataset\n",
    "explore_data(apple_data,0,5)"
   ]
  },
  {
   "cell_type": "markdown",
   "id": "d319ec9b-0a4b-429d-a356-862083245400",
   "metadata": {},
   "source": [
    "## Cleaning Data\n",
    "\n",
    "The next step is to begin the data cleaning process. First we will look for any data rows which have errors.\r\n",
    "\r\n",
    "An example of an error row is shown below."
   ]
  },
  {
   "cell_type": "code",
   "execution_count": 58,
   "id": "006a6a78-1863-4335-ab1b-26bb602fd46d",
   "metadata": {},
   "outputs": [
    {
     "name": "stdout",
     "output_type": "stream",
     "text": [
      "['Life Made WI-Fi Touchscreen Photo Frame', '1.9', '19', '3.0M', '1,000+', 'Free', '0', 'Everyone', '', 'February 11, 2018', '1.0.19', '4.0 and up']\n"
     ]
    }
   ],
   "source": [
    "error_row = play_data[10473]\n",
    "print(error_row)"
   ]
  },
  {
   "cell_type": "markdown",
   "id": "0228904e-b26f-4036-a25f-9ba66cc06a42",
   "metadata": {},
   "source": [
    "As you can see in row 10473, as per the header row, the order should go as follows:\r\n",
    "\r\n",
    "Header: - ['App', 'Category', 'Rating', 'Reviews', 'Size', 'Installs', 'Type', 'Price', 'Content Rating', 'Genres', 'Last Updated', 'Current Ver', 'Android Ver']\r\n",
    "\r\n",
    "Row 10473: - ['Life Made WI-Fi Touchscreen Photo Frame', '1.9', '19', '3.0M', '1,000+', 'Free', '0', 'Everyone', '', 'February 11, 2018', '1.0.19', '4.0 and up']\r\n",
    "\r\n",
    "There is no category present."
   ]
  },
  {
   "cell_type": "code",
   "execution_count": 59,
   "id": "3b9e9dfe-0b85-4a96-90cc-67d036714b7f",
   "metadata": {},
   "outputs": [],
   "source": [
    "#let's delete this row\n",
    "\n",
    "del play_data[10473]"
   ]
  },
  {
   "cell_type": "markdown",
   "id": "c5eab654-e106-438b-af66-7673e523124d",
   "metadata": {},
   "source": [
    "We need to search for duplicate entries.\r\n",
    "\r\n",
    "We can do this by creating two lists, one for unique apps names and one for duplicate apps names.\r\n",
    "\r\n",
    "First for the Google Play data:\r\n",
    "\r\n",
    "If the app name is not in the unqiye names list, then it can be added.\r\n",
    "\r\n",
    "If the app name is already in the unique names list, then it will be added ot the dupicate list."
   ]
  },
  {
   "cell_type": "code",
   "execution_count": 60,
   "id": "06233e7d-558d-40bb-8012-642be564000e",
   "metadata": {},
   "outputs": [
    {
     "name": "stdout",
     "output_type": "stream",
     "text": [
      "Number of apps in reviews_max: 9659\n",
      "Number of all other apps: 398307.0\n"
     ]
    }
   ],
   "source": [
    "#Play store\n",
    "\n",
    "reviews_max = {}\n",
    "\n",
    "for app in play_data[1:]:\n",
    "    name = app[0]\n",
    "    n_reviews = float(app[3])\n",
    "    \n",
    "    if name in reviews_max and reviews_max[name] < n_reviews:\n",
    "        reviews_max[name] = n_reviews\n",
    "    elif name not in reviews_max:\n",
    "        reviews_max[name] = n_reviews\n",
    "        \n",
    "print(\"Number of apps in reviews_max: \"+ str(len(reviews_max)))\n",
    "print(\"Number of all other apps: \"+ str(n_reviews))"
   ]
  },
  {
   "cell_type": "markdown",
   "id": "12cc4c7d-8926-4e0a-aed5-d86cc1015a35",
   "metadata": {},
   "source": [
    "Now we have created the reviews_max dictionary containing the newest version each app, we can create a new list with just the latest version of apps.\r\n",
    "\r\n",
    "First we initalise two lists.\r\n",
    "\r\n",
    "We create a for loop in which the app name and number of reviews is defined.\r\n",
    "\r\n",
    "For each app in the data set, if the app is equal to the highest number of reviews, and the name has not been already added to the cleaned data list, then the app is added to the\n",
    " list.\r\n",
    "We have to ensure the extra clause to account or theose duplicate apps that have the same number of reviews as others."
   ]
  },
  {
   "cell_type": "code",
   "execution_count": 61,
   "id": "02efcd15-9f4d-4585-965e-a56cfbaa1564",
   "metadata": {},
   "outputs": [
    {
     "name": "stdout",
     "output_type": "stream",
     "text": [
      "9659\n"
     ]
    }
   ],
   "source": [
    "android_clean = []\n",
    "already_added = []\n",
    "\n",
    "for app in play_data[1:]:\n",
    "    name = app[0]\n",
    "    n_reviews = float(app[3])\n",
    "    \n",
    "    if (reviews_max[name] == n_reviews) and (name not in already_added):\n",
    "        android_clean.append(app)\n",
    "        already_added.append(name)\n",
    "\n",
    "print(len(android_clean))"
   ]
  },
  {
   "cell_type": "markdown",
   "id": "d4051707-f245-4ac9-a363-aca74d1c2a16",
   "metadata": {},
   "source": [
    "Next we will look for duplicate apps in the Apple store data set."
   ]
  },
  {
   "cell_type": "code",
   "execution_count": 62,
   "id": "d7381b09-854a-4998-83a9-7056dba2da33",
   "metadata": {},
   "outputs": [
    {
     "name": "stdout",
     "output_type": "stream",
     "text": [
      "Number of duplciate apps in the Apple Store Data: 0\n"
     ]
    }
   ],
   "source": [
    "ios_unique_apps = [] \n",
    "ios_duplicate_apps = [] \n",
    "\n",
    "for app in apple_data[1:]: \n",
    "    app_name = app[1]\n",
    "    tot_ratings = app[5]\n",
    "    #print(tot_ratings)\n",
    "    #print(app_name)\n",
    "    \n",
    "    if app_name not in ios_unique_apps:\n",
    "        ios_unique_apps.append(app_name)\n",
    "        ios_unique_apps.append(tot_ratings)\n",
    "    elif app_name in ios_unique_apps:\n",
    "        ios_duplicate_apps.append(app_name)\n",
    "        ios_duplicate_apps.append(tot_ratings)\n",
    "\n",
    "#print(len(ios_unique_apps))\n",
    "\n",
    "print(\"Number of duplciate apps in the Apple Store Data: \" + str(len(ios_duplicate_apps)))\n",
    "\n",
    "#print(ios_duplicate_apps)\n",
    "\n",
    "\n",
    "#for app in apple_data[1:]:\n",
    "   # index(\"VR Roller Coaster\")"
   ]
  },
  {
   "cell_type": "markdown",
   "id": "ac919d38-6c9e-4233-9dac-9da5c7cfed19",
   "metadata": {},
   "source": [
    "As you can see there are no duplicate apps in the Apple Store Data. We will therefore move onto the next stage."
   ]
  },
  {
   "cell_type": "markdown",
   "id": "0b080ec4-b8c9-4230-96ef-cad352d1047e",
   "metadata": {},
   "source": [
    "## Removing non-english apps\n",
    "\n",
    "There are many apps in our data sets that contain non-english characters, which are designed for a non-english audience. We only want to keep apps that are designed for an English audience. Below we define a function that can check for non-enligh characters, called english()."
   ]
  },
  {
   "cell_type": "code",
   "execution_count": 63,
   "id": "3330f070-bfa7-4808-a091-eac1d59d5d52",
   "metadata": {
    "scrolled": true
   },
   "outputs": [
    {
     "name": "stdout",
     "output_type": "stream",
     "text": [
      "True\n",
      "False\n",
      "False\n",
      "False\n"
     ]
    }
   ],
   "source": [
    "def english(string):\n",
    "    letters = []\n",
    "    for letter in string:\n",
    "        ord_number = ord(letter)\n",
    "        if ord_number > 127:\n",
    "            letters.append(\"False\")\n",
    "        else:\n",
    "            letters.append(\"True\")\n",
    "    if \"False\" in letters:\n",
    "        word = \"False\"\n",
    "    else:\n",
    "        word = \"True\"\n",
    "    return word\n",
    "\n",
    "print(english(\"Instagram\"))\n",
    "print(english(\"爱奇艺PPS -《欢乐颂2》电视剧热播\"))\n",
    "print(english(\"Docs To Go™ Free Office Suite\"))\n",
    "print(english(\"Instachat 😜\"))\n",
    "            "
   ]
  },
  {
   "cell_type": "markdown",
   "id": "3611e721-ba33-4a1e-8f1a-8274f76129bb",
   "metadata": {},
   "source": [
    "Some apps may be designed for an English audience but have a few non-english symbols\n",
    "e.g. Instachat 😜\n",
    "\n",
    "Therefore we will assume that apps that have less than three non-english characters, are designed for an English audience, and those that have greater than three, are designed for a non-english audience. This is a slightly crude way to split the data, but should be sufficent."
   ]
  },
  {
   "cell_type": "code",
   "execution_count": 64,
   "id": "265191f1-ca17-4ca8-a3b3-64505b85576a",
   "metadata": {},
   "outputs": [
    {
     "name": "stdout",
     "output_type": "stream",
     "text": [
      "True\n",
      "False\n",
      "True\n",
      "True\n",
      "True\n"
     ]
    }
   ],
   "source": [
    "def english(string):\n",
    "    letters = []\n",
    "    for letter in string:\n",
    "        ord_number = ord(letter)\n",
    "        if ord_number > 127:\n",
    "            letters.append(\"False\")\n",
    "        else:\n",
    "            letters.append(\"True\")\n",
    "    if letters.count(\"False\") > 3:\n",
    "        word = \"False\"\n",
    "    else:\n",
    "        word = \"True\"\n",
    "    return word\n",
    "\n",
    "print(english(\"Instagram\"))\n",
    "print(english(\"爱奇艺PPS -《欢乐颂2》电视剧热播\"))\n",
    "print(english(\"Docs To Go™ Free Office Suite\"))\n",
    "print(english(\"Instachat 😜\"))\n",
    "print(english(\"U Launcher Lite – FREE Live Cool Themes\"))\n",
    "            "
   ]
  },
  {
   "cell_type": "code",
   "execution_count": 65,
   "id": "00fd1298-ba34-4f21-9064-8cc4ce937d08",
   "metadata": {},
   "outputs": [
    {
     "name": "stdout",
     "output_type": "stream",
     "text": [
      "# Google Play data set: \n",
      "\n",
      "Number of English language android apps: 9614\n",
      "Number non-english android apps: 45\n",
      "\n",
      "\n",
      "Example android English language apps: \n",
      "[['Photo Editor & Candy Camera & Grid & ScrapBook', 'ART_AND_DESIGN', '4.1', '159', '19M', '10,000+', 'Free', '0', 'Everyone', 'Art & Design', 'January 7, 2018', '1.0.0', '4.0.3 and up'], ['U Launcher Lite – FREE Live Cool Themes, Hide Apps', 'ART_AND_DESIGN', '4.7', '87510', '8.7M', '5,000,000+', 'Free', '0', 'Everyone', 'Art & Design', 'August 1, 2018', '1.2.4', '4.0.3 and up'], ['Sketch - Draw & Paint', 'ART_AND_DESIGN', '4.5', '215644', '25M', '50,000,000+', 'Free', '0', 'Teen', 'Art & Design', 'June 8, 2018', 'Varies with device', '4.2 and up']]\n",
      "\n",
      "\n",
      "Example android non-English language apps: \n",
      "[['Flame - درب عقلك يوميا', 'EDUCATION', '4.6', '56065', '37M', '1,000,000+', 'Free', '0', 'Everyone', 'Education', 'July 26, 2018', '3.3', '4.1 and up'], ['သိင်္ Astrology - Min Thein Kha BayDin', 'LIFESTYLE', '4.7', '2225', '15M', '100,000+', 'Free', '0', 'Everyone', 'Lifestyle', 'July 26, 2018', '4.2.1', '4.0.3 and up'], ['РИА Новости', 'NEWS_AND_MAGAZINES', '4.5', '44274', '8.0M', '1,000,000+', 'Free', '0', 'Everyone', 'News & Magazines', 'August 6, 2018', '4.0.6', '4.4 and up']] \n",
      " \n",
      "# Apple data set: \n",
      "\n",
      "Number of English language ios apps: 6183\n",
      "Number non-english ios apps: 1014\n",
      "\n",
      "\n",
      "Example ios English language apps: \n",
      "[['1', '281656475', 'PAC-MAN Premium', '100788224', 'USD', '3.99', '21292', '26', '4', '4.5', '6.3.5', '4+', 'Games', '38', '5', '10', '1'], ['2', '281796108', 'Evernote - stay organized', '158578688', 'USD', '0', '161065', '26', '4', '3.5', '8.2.2', '4+', 'Productivity', '37', '5', '23', '1'], ['3', '281940292', 'WeatherBug - Local Weather, Radar, Maps, Alerts', '100524032', 'USD', '0', '188583', '2822', '3.5', '4.5', '5.0.0', '4+', 'Weather', '37', '5', '3', '1']]\n",
      "\n",
      "\n",
      "Example ios non-English language apps: \n",
      "[['80', '299853944', '新浪新闻-阅读最新时事热门头条资讯视频', '115143680', 'USD', '0', '2229', '4', '3.5', '1', '6.2.1', '17+', 'News', '37', '0', '1', '1'], ['96', '303191318', '同花顺-炒股、股票', '122886144', 'USD', '0', '1744', '0', '3.5', '0', '10.10.46', '4+', 'Finance', '37', '0', '1', '1'], ['239', '331259725', '央视影音-海量央视内容高清直播', '54648832', 'USD', '0', '2070', '0', '2.5', '0', '6.2.0', '4+', 'Sports', '37', '0', '1', '1']]\n"
     ]
    }
   ],
   "source": [
    "android_cleaned = []\n",
    "android_non_english = []\n",
    "\n",
    "for app in android_clean:\n",
    "    name = app[0]\n",
    "    if english(name) == \"True\":\n",
    "        android_cleaned.append(app)\n",
    "    elif english(name) == \"False\":\n",
    "        android_non_english.append(app)\n",
    "        \n",
    "print(\"# Google Play data set: \\n\")        \n",
    "print(\"Number of English language android apps: \"+ str(len(android_cleaned)))\n",
    "print(\"Number non-english android apps: \"+ str(len(android_non_english)))\n",
    "print(\"\\n\")\n",
    "\n",
    "print(\"Example android English language apps: \\n\" + str(android_cleaned[:3]))\n",
    "print(\"\\n\")\n",
    "print(\"Example android non-English language apps: \\n\"+ str(android_non_english[:3])+\" \\n \")\n",
    "\n",
    "print(\"# Apple data set: \\n\")\n",
    "\n",
    "ios_cleaned = []\n",
    "ios_non_english = []\n",
    "\n",
    "for app in apple_data[1:]:\n",
    "    name = app[2]\n",
    "    if english(name) == \"True\":\n",
    "        ios_cleaned.append(app)\n",
    "    elif english(name) == \"False\":\n",
    "        ios_non_english.append(app)\n",
    "        \n",
    "print(\"Number of English language ios apps: \"+ str(len(ios_cleaned)))\n",
    "print(\"Number non-english ios apps: \"+ str(len(ios_non_english)))\n",
    "print(\"\\n\")\n",
    "\n",
    "print(\"Example ios English language apps: \\n\" + str(ios_cleaned[:3]))\n",
    "print(\"\\n\")\n",
    "print(\"Example ios non-English language apps: \\n\"+ str(ios_non_english[:3]))\n",
    "\n"
   ]
  },
  {
   "cell_type": "code",
   "execution_count": 66,
   "id": "7ba55e95-9141-4995-8bad-80b943d505ad",
   "metadata": {},
   "outputs": [
    {
     "name": "stdout",
     "output_type": "stream",
     "text": [
      "Number of free android apps: 8864\n",
      "Number of free ios apps: 3222\n"
     ]
    }
   ],
   "source": [
    "android_free = []\n",
    "android_paid = []\n",
    "\n",
    "for item in android_cleaned:\n",
    "    price = (item[7])\n",
    "    if price == \"0\":\n",
    "        android_free.append(item)\n",
    "    else:\n",
    "        android_paid.append(item)\n",
    "\n",
    "print(\"Number of free android apps: \"+str(len(android_free)))\n",
    "\n",
    "ios_free = []\n",
    "ios_paid = []\n",
    "\n",
    "for item in ios_cleaned:\n",
    "    price = (item[5])\n",
    "    if price == \"0\":\n",
    "        ios_free.append(item)\n",
    "    else:\n",
    "        ios_paid.append(item)\n",
    "\n",
    "print(\"Number of free ios apps: \"+str(len(ios_free)))\n"
   ]
  },
  {
   "cell_type": "markdown",
   "id": "e63f5f66-d578-4e7b-89c3-418ba8567c07",
   "metadata": {},
   "source": [
    "## Analysis time - find most common apps by genre\n",
    "\n",
    "Our company's strategy is to \n",
    " - a. find out which app genres are popular\n",
    " -   b. quickly develop an app and launch it into the Play store\n",
    " -   c. if the app gets good feedback develop it more\n",
    " -   d. if within 6 months it is generating an income then launch it into the App store\n",
    "\n",
    "a. lets use the explore data function we used at the beginning to find out which columns we will need for determining the most popular app genres\n"
   ]
  },
  {
   "cell_type": "code",
   "execution_count": 67,
   "id": "a1409ab8-b633-4aab-bbc7-cb1d0e8286dc",
   "metadata": {},
   "outputs": [
    {
     "name": "stdout",
     "output_type": "stream",
     "text": [
      "['Photo Editor & Candy Camera & Grid & ScrapBook', 'ART_AND_DESIGN', '4.1', '159', '19M', '10,000+', 'Free', '0', 'Everyone', 'Art & Design', 'January 7, 2018', '1.0.0', '4.0.3 and up']\n",
      "\n",
      "\n",
      "['U Launcher Lite – FREE Live Cool Themes, Hide Apps', 'ART_AND_DESIGN', '4.7', '87510', '8.7M', '5,000,000+', 'Free', '0', 'Everyone', 'Art & Design', 'August 1, 2018', '1.2.4', '4.0.3 and up']\n",
      "\n",
      "\n",
      "['Sketch - Draw & Paint', 'ART_AND_DESIGN', '4.5', '215644', '25M', '50,000,000+', 'Free', '0', 'Teen', 'Art & Design', 'June 8, 2018', 'Varies with device', '4.2 and up']\n",
      "\n",
      "\n",
      "\n",
      "\n",
      "['2', '281796108', 'Evernote - stay organized', '158578688', 'USD', '0', '161065', '26', '4', '3.5', '8.2.2', '4+', 'Productivity', '37', '5', '23', '1']\n",
      "\n",
      "\n",
      "['3', '281940292', 'WeatherBug - Local Weather, Radar, Maps, Alerts', '100524032', 'USD', '0', '188583', '2822', '3.5', '4.5', '5.0.0', '4+', 'Weather', '37', '5', '3', '1']\n",
      "\n",
      "\n",
      "['4', '282614216', 'eBay: Best App to Buy, Sell, Save! Online Shopping', '128512000', 'USD', '0', '262241', '649', '4', '4.5', '5.10.0', '12+', 'Shopping', '37', '5', '9', '1']\n",
      "\n",
      "\n"
     ]
    }
   ],
   "source": [
    "explore_data(android_free, 0, 3)\n",
    "print(\"\\n\")\n",
    "explore_data(ios_free, 0, 3)"
   ]
  },
  {
   "cell_type": "markdown",
   "id": "6f57538f-74d1-4f9d-8f46-62baf73b0690",
   "metadata": {},
   "source": [
    "The android free data set clearly has a category header column 1. \n",
    "The ios free data set has a categories in column 12. "
   ]
  },
  {
   "cell_type": "code",
   "execution_count": 68,
   "id": "d028ad83-74d6-4722-8187-0d1e4f890787",
   "metadata": {},
   "outputs": [],
   "source": [
    "def freq_table(dataset, index):\n",
    "    table = {}\n",
    "    index = int(index)\n",
    "    total = 0\n",
    "\n",
    "    for row in dataset:\n",
    "        total += 1\n",
    "        genre = row[index]\n",
    "        if genre in table:\n",
    "            table[genre] += 1\n",
    "        else:\n",
    "            table[genre] = 1\n",
    "\n",
    "    table_percentages = {}\n",
    "    for key in table:\n",
    "        percentage = (table[key]/total) * 100\n",
    "        table_percentages[key] = percentage\n",
    "        \n",
    "    \n",
    "    return table_percentages\n",
    "\n",
    "\n",
    "def display_table(dataset, index):\n",
    "    table = freq_table(dataset, index)\n",
    "    table_display = []\n",
    "    for key in table:\n",
    "        key_val_as_tuple = (table[key], key)\n",
    "        table_display.append(key_val_as_tuple)\n",
    "\n",
    "    table_sorted = sorted(table_display, reverse = True)\n",
    "    for entry in table_sorted:\n",
    "        print(entry[1], ':', entry[0])\n",
    "   "
   ]
  },
  {
   "cell_type": "code",
   "execution_count": 69,
   "id": "3b00a0d2-dd98-4859-9fd3-eb085b8bff1b",
   "metadata": {},
   "outputs": [
    {
     "name": "stdout",
     "output_type": "stream",
     "text": [
      "FAMILY : 18.907942238267147\n",
      "GAME : 9.724729241877256\n",
      "TOOLS : 8.461191335740072\n",
      "BUSINESS : 4.591606498194946\n",
      "LIFESTYLE : 3.9034296028880866\n",
      "PRODUCTIVITY : 3.892148014440433\n",
      "FINANCE : 3.7003610108303246\n",
      "MEDICAL : 3.531137184115524\n",
      "SPORTS : 3.395758122743682\n",
      "PERSONALIZATION : 3.3167870036101084\n",
      "COMMUNICATION : 3.2378158844765346\n",
      "HEALTH_AND_FITNESS : 3.0798736462093865\n",
      "PHOTOGRAPHY : 2.944494584837545\n",
      "NEWS_AND_MAGAZINES : 2.7978339350180503\n",
      "SOCIAL : 2.6624548736462095\n",
      "TRAVEL_AND_LOCAL : 2.33528880866426\n",
      "SHOPPING : 2.2450361010830324\n",
      "BOOKS_AND_REFERENCE : 2.1435018050541514\n",
      "DATING : 1.861462093862816\n",
      "VIDEO_PLAYERS : 1.7937725631768955\n",
      "MAPS_AND_NAVIGATION : 1.3989169675090252\n",
      "FOOD_AND_DRINK : 1.2409747292418771\n",
      "EDUCATION : 1.1620036101083033\n",
      "ENTERTAINMENT : 0.9589350180505415\n",
      "LIBRARIES_AND_DEMO : 0.9363718411552346\n",
      "AUTO_AND_VEHICLES : 0.9250902527075812\n",
      "HOUSE_AND_HOME : 0.8235559566787004\n",
      "WEATHER : 0.8009927797833934\n",
      "EVENTS : 0.7107400722021661\n",
      "PARENTING : 0.6543321299638989\n",
      "ART_AND_DESIGN : 0.6430505415162455\n",
      "COMICS : 0.6204873646209386\n",
      "BEAUTY : 0.5979241877256317\n",
      "\n",
      "\n",
      "Games : 58.16263190564867\n",
      "Entertainment : 7.883302296710118\n",
      "Photo & Video : 4.9658597144630665\n",
      "Education : 3.662321539416512\n",
      "Social Networking : 3.2898820608317814\n",
      "Shopping : 2.60707635009311\n",
      "Utilities : 2.5139664804469275\n",
      "Sports : 2.1415270018621975\n",
      "Music : 2.0484171322160147\n",
      "Health & Fitness : 2.0173805090006205\n",
      "Productivity : 1.7380509000620732\n",
      "Lifestyle : 1.5828677839851024\n",
      "News : 1.3345747982619491\n",
      "Travel : 1.2414649286157666\n",
      "Finance : 1.1173184357541899\n",
      "Weather : 0.8690254500310366\n",
      "Food & Drink : 0.8069522036002483\n",
      "Reference : 0.5586592178770949\n",
      "Business : 0.5276225946617008\n",
      "Book : 0.4345127250155183\n",
      "Navigation : 0.186219739292365\n",
      "Medical : 0.186219739292365\n",
      "Catalogs : 0.12414649286157665\n"
     ]
    }
   ],
   "source": [
    "freq_table(android_free, 1)\n",
    "display_table(android_free, 1)\n",
    "print(\"\\n\")\n",
    "freq_table(ios_free, 12)\n",
    "display_table(ios_free, 12)"
   ]
  },
  {
   "cell_type": "markdown",
   "id": "e54efcec-2107-417e-84e1-69047a127d14",
   "metadata": {},
   "source": [
    "Now we've found the most common apps, we also want to find the most installed apps, those that are most popular. The Apple Store data set does not include the number of installations, so we will use the number of ratings as a proxy. \n",
    "\n",
    "Below we isolate the genre of the app in the ios_free cleaned data set, and if the app in the dataset is the same as the genre in our frequency table list, we add the number of ratings to the list, and add one to the len_genre list. We calculate the average number of ratings for each genre by dividing the total ratings by the total number of ratings. "
   ]
  },
  {
   "cell_type": "code",
   "execution_count": 70,
   "id": "765bc177-df8b-4683-bf10-fe61d6ac3cde",
   "metadata": {},
   "outputs": [
    {
     "name": "stdout",
     "output_type": "stream",
     "text": [
      "Productivity : 21028.410714285714\n",
      "Weather : 52279.892857142855\n",
      "Shopping : 26919.690476190477\n",
      "Reference : 74942.11111111111\n",
      "Finance : 31467.944444444445\n",
      "Music : 57326.530303030304\n",
      "Utilities : 18684.456790123455\n",
      "Travel : 28243.8\n",
      "Social Networking : 71548.34905660378\n",
      "Sports : 23008.898550724636\n",
      "Health & Fitness : 23298.015384615384\n",
      "Games : 22788.6696905016\n",
      "Food & Drink : 33333.92307692308\n",
      "News : 21248.023255813954\n",
      "Book : 39758.5\n",
      "Photo & Video : 28441.54375\n",
      "Entertainment : 14029.830708661417\n",
      "Business : 7491.117647058823\n",
      "Lifestyle : 16485.764705882353\n",
      "Education : 7003.983050847458\n",
      "Navigation : 86090.33333333333\n",
      "Medical : 612.0\n",
      "Catalogs : 4004.0\n"
     ]
    }
   ],
   "source": [
    "genre_ios = freq_table(ios_free, 12)\n",
    "\n",
    "for genre in genre_ios:\n",
    "    total = 0\n",
    "    len_genre = 0\n",
    "    for app in ios_free:\n",
    "        genre_app = app[12]\n",
    "        if genre_app == genre:\n",
    "            ratings_total = float(app[6])\n",
    "            #print(ratings_total)\n",
    "            total += ratings_total\n",
    "            #print(total)\n",
    "            len_genre += 1\n",
    "            #print(len_genre)\n",
    "    average_ratings = (total / len_genre)\n",
    "    print(genre, \":\", average_ratings)"
   ]
  },
  {
   "cell_type": "markdown",
   "id": "928d00f6-a471-437d-a75f-1819aef1154d",
   "metadata": {},
   "source": [
    "Navigation is the genre with the highest average rating. Let's explore Navigation apps in more detail:"
   ]
  },
  {
   "cell_type": "code",
   "execution_count": 71,
   "id": "597521d4-14d6-444d-a5a5-7a47332a40b5",
   "metadata": {},
   "outputs": [
    {
     "name": "stdout",
     "output_type": "stream",
     "text": [
      "Waze - GPS Navigation, Maps & Real-time Traffic : 345046\n",
      "Geocaching® : 12811\n",
      "ImmobilienScout24: Real Estate Search in Germany : 187\n",
      "Railway Route Search : 5\n",
      "CoPilot GPS – Car Navigation & Offline Maps : 3582\n",
      "Google Maps - Navigation & Transit : 154911\n"
     ]
    }
   ],
   "source": [
    "for app in ios_free:\n",
    "    genre = app[12]\n",
    "    if genre == \"Navigation\":\n",
    "        print(app[2], \":\", app[6]) # name and number of ratings"
   ]
  },
  {
   "cell_type": "markdown",
   "id": "e15cc245-490b-4e03-8913-29cc6ed04b7a",
   "metadata": {},
   "source": [
    "As we can see, the Navigation apps are dominated by Waze and Google Maps. It will likely be difficult to compete with these big players. Similarly with the Music and Social Networking categories, there are a few apps that dominate and lots of competition. \n",
    "\n",
    "Let's look at the genre with the next highest average rating: Reference"
   ]
  },
  {
   "cell_type": "code",
   "execution_count": 72,
   "id": "31960513-dd0d-458d-a958-d5aeb21c9bbc",
   "metadata": {},
   "outputs": [
    {
     "name": "stdout",
     "output_type": "stream",
     "text": [
      "Bible : 985920\n",
      "Dictionary.com Dictionary & Thesaurus : 200047\n",
      "Dictionary.com Dictionary & Thesaurus for iPad : 54175\n",
      "Muslim Pro: Ramadan 2017 Prayer Times, Azan, Quran : 18418\n",
      "Merriam-Webster Dictionary : 16849\n",
      "Google Translate : 26786\n",
      "Night Sky : 12122\n",
      "WWDC : 762\n",
      "Jishokun-Japanese English Dictionary & Translator : 0\n",
      "教えて!goo : 0\n",
      "VPN Express : 14\n",
      "New Furniture Mods - Pocket Wiki & Game Tools for Minecraft PC Edition : 17588\n",
      "LUCKY BLOCK MOD ™ for Minecraft PC Edition - The Best Pocket Wiki & Mods Installer Tools : 4693\n",
      "Guides for Pokémon GO - Pokemon GO News and Cheats : 826\n",
      "Horror Maps for Minecraft PE - Download The Scariest Maps for Minecraft Pocket Edition (MCPE) Free : 718\n",
      "City Maps for Minecraft PE - The Best Maps for Minecraft Pocket Edition (MCPE) : 8535\n",
      "GUNS MODS for Minecraft PC Edition - Mods Tools : 1497\n",
      "Real Bike Traffic Rider Virtual Reality Glasses : 8\n"
     ]
    }
   ],
   "source": [
    "for app in ios_free:\n",
    "    genre = app[12]\n",
    "    if genre == \"Reference\":\n",
    "        print(app[2], \":\", app[6]) # name and number of ratings"
   ]
  },
  {
   "cell_type": "markdown",
   "id": "b62358af-c1fc-4780-8cff-a6da20209015",
   "metadata": {},
   "source": [
    "The Reference category has a few big apps such as the Bible and Dictionary.com, however there is a lot of variety within this category, and unlike the other markets, it is not so flooded. This category could be a good choice. "
   ]
  },
  {
   "cell_type": "code",
   "execution_count": null,
   "id": "6fc5de37-c9f7-494c-b772-067286f1ea49",
   "metadata": {},
   "outputs": [],
   "source": []
  },
  {
   "cell_type": "markdown",
   "id": "7d92069f-c89b-470a-935c-2a08cef2fae8",
   "metadata": {},
   "source": [
    "\n"
   ]
  },
  {
   "cell_type": "code",
   "execution_count": null,
   "id": "1dfa82e1-db5d-41c5-8e50-dd5cace4ca23",
   "metadata": {},
   "outputs": [],
   "source": []
  },
  {
   "cell_type": "code",
   "execution_count": null,
   "id": "fcf92f52-c71f-4c28-9a5d-281f83b4d414",
   "metadata": {},
   "outputs": [],
   "source": []
  }
 ],
 "metadata": {
  "kernelspec": {
   "display_name": "Python 3 (ipykernel)",
   "language": "python",
   "name": "python3"
  },
  "language_info": {
   "codemirror_mode": {
    "name": "ipython",
    "version": 3
   },
   "file_extension": ".py",
   "mimetype": "text/x-python",
   "name": "python",
   "nbconvert_exporter": "python",
   "pygments_lexer": "ipython3",
   "version": "3.11.3"
  }
 },
 "nbformat": 4,
 "nbformat_minor": 5
}
